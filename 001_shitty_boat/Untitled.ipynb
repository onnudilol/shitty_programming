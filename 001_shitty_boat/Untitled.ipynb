{
 "cells": [
  {
   "cell_type": "markdown",
   "metadata": {},
   "source": [
    "# Classes\n",
    "\n"
   ]
  },
  {
   "cell_type": "code",
   "execution_count": 306,
   "metadata": {
    "collapsed": true
   },
   "outputs": [],
   "source": [
    "class Person:\n",
    "    \n",
    "    def __init__(self, name, age):\n",
    "        self.name = name\n",
    "        self.age = age\n",
    "        \n",
    "    def time_to_die(self):\n",
    "        if 80 - self.age > 0:\n",
    "            print(\"I'm still alive )-:\")\n",
    "        else:\n",
    "            print(\"Sorry, I'm dead\")\n",
    "            \n",
    "    @staticmethod\n",
    "    def favourite_colour(colour):\n",
    "        print('My favourite is {}'.format(colour))"
   ]
  },
  {
   "cell_type": "code",
   "execution_count": 307,
   "metadata": {
    "collapsed": true
   },
   "outputs": [],
   "source": [
    "james = Person('James', 24)"
   ]
  },
  {
   "cell_type": "code",
   "execution_count": 308,
   "metadata": {
    "collapsed": false
   },
   "outputs": [
    {
     "name": "stdout",
     "output_type": "stream",
     "text": [
      "I'm still alive )-:\n"
     ]
    }
   ],
   "source": [
    "james.time_to_die()"
   ]
  },
  {
   "cell_type": "code",
   "execution_count": 309,
   "metadata": {
    "collapsed": false
   },
   "outputs": [
    {
     "data": {
      "text/plain": [
       "__main__.Person"
      ]
     },
     "execution_count": 309,
     "metadata": {},
     "output_type": "execute_result"
    }
   ],
   "source": [
    "type(james)"
   ]
  },
  {
   "cell_type": "code",
   "execution_count": 310,
   "metadata": {
    "collapsed": false
   },
   "outputs": [
    {
     "name": "stdout",
     "output_type": "stream",
     "text": [
      "James\n",
      "24\n"
     ]
    }
   ],
   "source": [
    "print(james.name)\n",
    "print(james.age)"
   ]
  },
  {
   "cell_type": "code",
   "execution_count": 311,
   "metadata": {
    "collapsed": false
   },
   "outputs": [
    {
     "name": "stdout",
     "output_type": "stream",
     "text": [
      "My favourite is black\n"
     ]
    }
   ],
   "source": [
    "james.favourite_colour('black')"
   ]
  },
  {
   "cell_type": "code",
   "execution_count": 312,
   "metadata": {
    "collapsed": false
   },
   "outputs": [
    {
     "name": "stdout",
     "output_type": "stream",
     "text": [
      "My favourite is black\n"
     ]
    }
   ],
   "source": [
    "Person.favourite_colour('black')"
   ]
  },
  {
   "cell_type": "code",
   "execution_count": 313,
   "metadata": {
    "collapsed": false
   },
   "outputs": [
    {
     "name": "stdout",
     "output_type": "stream",
     "text": [
      "watch this shit\n"
     ]
    }
   ],
   "source": [
    "class Anime:\n",
    "    \n",
    "    def __init__(self, name, genre, rating, fanservice, traps):\n",
    "        self.name = name\n",
    "        self.genre = genre\n",
    "        self.rating = rating\n",
    "        self.fanservice = fanservice\n",
    "        self.traps = traps\n",
    "        \n",
    "    def should_you_watch(self):\n",
    "        if self.rating > 6 and self.fanservice == 'Y' or 'Yes':\n",
    "            print('watch this shit')\n",
    "        else:\n",
    "            print('don\"t waste your time')\n",
    "            \n",
    "    def are_there_traps(self):\n",
    "        if self.traps == 'Yes':\n",
    "            print('yes this is gay')\n",
    "        else:\n",
    "            print('nah no homo')\n",
    "ReZero = Anime('Re:Zero', 'Thriller', 8, 'Yes', 'Yes')\n",
    "ReZero.should_you_watch()\n",
    "    "
   ]
  },
  {
   "cell_type": "code",
   "execution_count": 314,
   "metadata": {
    "collapsed": false
   },
   "outputs": [],
   "source": [
    "class ChineseAnime(Anime):\n",
    "    \n",
    "    def __init__(self, kungfu, *args, **kwargs):\n",
    "        super().__init__(*args, **kwargs)\n",
    "        self.kungfu = kungfu\n",
    "        \n",
    "    def should_you_watch(self):\n",
    "        \n",
    "        if self.rating < 5:\n",
    "            print('yes, this is good')\n",
    "        else:\n",
    "            print('no, this is bad')\n",
    "        \n",
    "        \n",
    "    def kungfu_style(self):\n",
    "        print('This anime is {} style kungfu'.format(self.kungfu))"
   ]
  },
  {
   "cell_type": "code",
   "execution_count": 315,
   "metadata": {
    "collapsed": false
   },
   "outputs": [],
   "source": [
    "dragonballs = ChineseAnime(kungfu='turtle hermit', name='dragon balls', genre='super saiyan', rating=9001, fanservice='Yes', traps='No')"
   ]
  },
  {
   "cell_type": "code",
   "execution_count": 316,
   "metadata": {
    "collapsed": false
   },
   "outputs": [
    {
     "name": "stdout",
     "output_type": "stream",
     "text": [
      "This anime is turtle hermit style kungfu\n"
     ]
    }
   ],
   "source": [
    "dragonballs.kungfu_style()"
   ]
  },
  {
   "cell_type": "code",
   "execution_count": 317,
   "metadata": {
    "collapsed": false
   },
   "outputs": [
    {
     "name": "stdout",
     "output_type": "stream",
     "text": [
      "no, this is bad\n"
     ]
    }
   ],
   "source": [
    "dragonballs.should_you_watch()"
   ]
  },
  {
   "cell_type": "code",
   "execution_count": 318,
   "metadata": {
    "collapsed": false
   },
   "outputs": [
    {
     "name": "stdout",
     "output_type": "stream",
     "text": [
      "nah no homo\n"
     ]
    }
   ],
   "source": [
    "dragonballs.are_there_traps()"
   ]
  },
  {
   "cell_type": "code",
   "execution_count": null,
   "metadata": {
    "collapsed": true
   },
   "outputs": [],
   "source": []
  }
 ],
 "metadata": {
  "kernelspec": {
   "display_name": "Python 3",
   "language": "python",
   "name": "python3"
  },
  "language_info": {
   "codemirror_mode": {
    "name": "ipython",
    "version": 3
   },
   "file_extension": ".py",
   "mimetype": "text/x-python",
   "name": "python",
   "nbconvert_exporter": "python",
   "pygments_lexer": "ipython3",
   "version": "3.6.0"
  }
 },
 "nbformat": 4,
 "nbformat_minor": 2
}
