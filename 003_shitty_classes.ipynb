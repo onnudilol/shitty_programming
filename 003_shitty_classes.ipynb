{
 "cells": [
  {
   "cell_type": "markdown",
   "metadata": {},
   "source": [
    "# Classes\n",
    "\n",
    "Python is an object oriented language.  People like to tell you that everything in Python is an object, including strings and functions.\n",
    "\n",
    "An object is a way to organise your data and your functions.  You can get away with using free floating functions to do most of the work of your program, but you'll eventually reach a point where it makes sense to organize related code together into a class\n",
    "\n",
    "## Defining a Class\n",
    "\n",
    "You use the following syntax to define a class:"
   ]
  },
  {
   "cell_type": "code",
   "execution_count": 199,
   "metadata": {
    "collapsed": true
   },
   "outputs": [],
   "source": [
    "class Liquor:\n",
    "\n",
    "    def __init__(self, strength, speed, intelligence, color):\n",
    "        self.strength = strength\n",
    "        self.speed = speed\n",
    "        self.intelligence = intelligence\n",
    "        self.color = color\n",
    "        self.luck = 0\n",
    "        \n",
    "    def drink(self):\n",
    "        print(\"Hey that's pretty good.  Gained {} strength, {} speed, {} intelligence\".format(self.strength, self.speed, self.intelligence))\n",
    "        \n",
    "    @staticmethod    \n",
    "    def puke():\n",
    "        print(\"Hey I don't feel good.\")"
   ]
  },
  {
   "cell_type": "markdown",
   "metadata": {},
   "source": [
    "The first part of the class definition is the class name.  This is done using the ```class``` keyword, followed by the name in CamelCase.  In Python 2, your class must inherit from ```object```, like this:\n",
    "\n",
    "```python\n",
    "class Liquor(object)\n",
    "```\n",
    "\n",
    "In Python 3, this isn't necessary unless you want your code to be cross compatible."
   ]
  },
  {
   "cell_type": "markdown",
   "metadata": {},
   "source": [
    "The second part of the class definition is the constructor ```def __init__(self, attribute_1, attribute_2, ...)```.  This is where you define the values that you pass in when you create, or instantiate, a class object.\n",
    "\n",
    "If the value is constant for all instances of the class, you don't need to define it as an argument in your constructor function.  You can simply set it directly in the body of the function, like ```self.luck``` in the example class above.\n",
    "\n",
    "The ```self``` keyword is shorthand for whatever variable you set your instantiated object to.  It can be anything, but the convention in Python is to use ```self```.  This is similiar to the concept of the ```this``` keyword in Java and JavaScript if you're familiar with those concepts.\n",
    "\n",
    "The parts beneath the parameters might seem redundant, but they do the actual work of setting the parameters to your object.  In addition, they don't need to be a one to one assignment.  You can perform any operations that you may need on the parameters you pass in, like this:\n",
    "\n",
    "```python\n",
    "def __init__(self, strength):\n",
    "    self.strength = strength * 2\n",
    "```"
   ]
  },
  {
   "cell_type": "markdown",
   "metadata": {},
   "source": [
    "You can bind functions, or methods, to a class.  In general, they're defined exactly like you would define a function regularly, except they also take the ```self``` argument.  This allows them to access the attributes that you defined in the constructor.\n",
    "\n",
    "You can also omit the self parameter if you don't refer to any of these attributes.  This is mostly for organisational purposes.  These are called static methods."
   ]
  },
  {
   "cell_type": "markdown",
   "metadata": {},
   "source": [
    "## Instantiating a Class Object\n",
    "\n",
    "To instantiate a class, you call it like you would a function using parentheses.  It will return an instance of the class, which you can set to a variable.\n"
   ]
  },
  {
   "cell_type": "code",
   "execution_count": 200,
   "metadata": {
    "collapsed": true
   },
   "outputs": [],
   "source": [
    "beer = Liquor(11, 27, 9, 'green')"
   ]
  },
  {
   "cell_type": "markdown",
   "metadata": {},
   "source": [
    "You can access the attributes using dot notation and the variable you assigned it to."
   ]
  },
  {
   "cell_type": "code",
   "execution_count": 201,
   "metadata": {
    "collapsed": false
   },
   "outputs": [
    {
     "name": "stdout",
     "output_type": "stream",
     "text": [
      "strength:  11\n",
      "speed:  27\n",
      "intelligence:  9\n",
      "color:  green\n"
     ]
    }
   ],
   "source": [
    "print('strength: ', beer.strength)\n",
    "print('speed: ', beer.speed)\n",
    "print('intelligence: ', beer.intelligence)\n",
    "print('color: ', beer.color)"
   ]
  },
  {
   "cell_type": "markdown",
   "metadata": {},
   "source": [
    "You can call functions with dot notation as well."
   ]
  },
  {
   "cell_type": "code",
   "execution_count": 202,
   "metadata": {
    "collapsed": false
   },
   "outputs": [
    {
     "name": "stdout",
     "output_type": "stream",
     "text": [
      "Hey that's pretty good.  Gained 11 strength, 27 speed, 9 intelligence\n"
     ]
    }
   ],
   "source": [
    "beer.drink()"
   ]
  },
  {
   "cell_type": "markdown",
   "metadata": {},
   "source": [
    "The example class defines a static method ```puke()```.  Static methods don't care about the instance of the class.  In fact they can be directly called without instantiating a class."
   ]
  },
  {
   "cell_type": "code",
   "execution_count": 203,
   "metadata": {
    "collapsed": false
   },
   "outputs": [
    {
     "name": "stdout",
     "output_type": "stream",
     "text": [
      "Hey I don't feel good.\n"
     ]
    }
   ],
   "source": [
    "Liquor.puke()"
   ]
  },
  {
   "cell_type": "markdown",
   "metadata": {},
   "source": [
    "However, it's important to remember to use the @staticmethod decorator on the static method.  The reason for this is because all class methods implicitly get a ```cls``` argument passed in, which returns a value of the class it's currently being run from.  If you don't use the decorator, the interpreter will return an error because of this extra unused argument."
   ]
  },
  {
   "cell_type": "code",
   "execution_count": 217,
   "metadata": {
    "collapsed": false
   },
   "outputs": [
    {
     "name": "stdout",
     "output_type": "stream",
     "text": [
      "I'm on the trash can at Detroit\n"
     ]
    }
   ],
   "source": [
    "class StaticShock:\n",
    "    \n",
    "    def __init__():\n",
    "        self.trash_can = True\n",
    "        \n",
    "    def ride_trash_can(location):\n",
    "        print(\"I'm on the trash can at {}\".format(location))\n",
    "        \n",
    "StaticShock.ride_trash_can('Detroit')"
   ]
  },
  {
   "cell_type": "markdown",
   "metadata": {},
   "source": [
    "You can modify the values of an attribute after you instantiate the class."
   ]
  },
  {
   "cell_type": "code",
   "execution_count": 205,
   "metadata": {
    "collapsed": false
   },
   "outputs": [
    {
     "name": "stdout",
     "output_type": "stream",
     "text": [
      "2\n"
     ]
    }
   ],
   "source": [
    "beer.strength -= 9\n",
    "print(beer.strength)"
   ]
  },
  {
   "cell_type": "markdown",
   "metadata": {},
   "source": [
    "You can also pass in instances of an object in a constructor method.  The jargon for this is called dependency injection."
   ]
  },
  {
   "cell_type": "code",
   "execution_count": 206,
   "metadata": {
    "collapsed": false
   },
   "outputs": [
    {
     "name": "stdout",
     "output_type": "stream",
     "text": [
      "My name is Jack and my favourite drink increases my strength by 2\n"
     ]
    }
   ],
   "source": [
    "class Alcoholic:\n",
    "\n",
    "    def __init__(self, name, drink):\n",
    "        self.name = name\n",
    "        self.drink = drink\n",
    "        \n",
    "    def introduction(self):\n",
    "        print('My name is {} and my favourite drink increases my strength by {}'.format(self.name, self.drink.strength))\n",
    "        \n",
    "jack = Alcoholic('Jack', beer)\n",
    "jack.introduction()"
   ]
  },
  {
   "cell_type": "markdown",
   "metadata": {},
   "source": [
    "## Class Inheritance\n",
    "\n",
    "Clsas inheritance is a way to reuse your code.  This is a good thing, because the more you repeat things in your code, the more things you'll have to go back and change if something needs to get fixed.\n",
    "\n",
    "You can inherit from a class like this:"
   ]
  },
  {
   "cell_type": "code",
   "execution_count": 207,
   "metadata": {
    "collapsed": true
   },
   "outputs": [],
   "source": [
    "class Poison(Liquor):\n",
    "\n",
    "    def drink(self):\n",
    "        print(\"Hey this is kind of lame.  Lost {} strength, {} speed, {} intelligence\".format(self.strength, self.speed, self.intelligence))\n",
    "        \n",
    "    def embrace_death(self):\n",
    "        print(\"I'm probably going to die and that's okay.\")"
   ]
  },
  {
   "cell_type": "code",
   "execution_count": 208,
   "metadata": {
    "collapsed": true
   },
   "outputs": [],
   "source": [
    "toxic  = Poison(12, 5, 27, 'red')"
   ]
  },
  {
   "cell_type": "markdown",
   "metadata": {},
   "source": [
    "You can access all the original methods defined in the parent class, as well as any new methods that you defined in the class.  In addition, if you overwrote a method that was defined in the parent class within your child class, it will use the overwritten method instead."
   ]
  },
  {
   "cell_type": "code",
   "execution_count": 209,
   "metadata": {
    "collapsed": false
   },
   "outputs": [
    {
     "name": "stdout",
     "output_type": "stream",
     "text": [
      "Hey this is kind of lame.  Lost 12 strength, 5 speed, 27 intelligence\n",
      "Hey I don't feel good.\n",
      "I'm probably going to die and that's okay.\n"
     ]
    }
   ],
   "source": [
    "toxic.strength # Attribute from parent constructor method\n",
    "toxic.drink() # Overwritten method\n",
    "toxic.puke() # Method in parent class\n",
    "toxic.embrace_death() # New method in child class"
   ]
  },
  {
   "cell_type": "markdown",
   "metadata": {},
   "source": [
    "The parent class remains untouched from the changes you made in the child class."
   ]
  },
  {
   "cell_type": "code",
   "execution_count": 210,
   "metadata": {
    "collapsed": false
   },
   "outputs": [
    {
     "name": "stdout",
     "output_type": "stream",
     "text": [
      "Hey that's pretty good.  Gained 12 strength, 55 speed, 13 intelligence\n",
      "'Liquor' object has no attribute 'embrace_death': this function is not defined in the parent class\n"
     ]
    }
   ],
   "source": [
    "whiskey = Liquor(12, 55, 13, 'brown')\n",
    "whiskey.drink() # Still the same as it was in the original\n",
    "\n",
    "try:\n",
    "    whiskey.embrace_death()\n",
    "except AttributeError as e:\n",
    "    print('{}: this function is not defined in the parent class'.format(e))"
   ]
  },
  {
   "cell_type": "markdown",
   "metadata": {},
   "source": [
    "Changing the constructor method isn't the most straightforward thing to do.  The least error prone way is to redefine the parameters in the constructor method from the parent class to the child class, then use the builtin ```super()``` method to save yourself some typing.  However, you'll still need to change the child classes when you refactor."
   ]
  },
  {
   "cell_type": "code",
   "execution_count": 211,
   "metadata": {
    "collapsed": false
   },
   "outputs": [
    {
     "name": "stdout",
     "output_type": "stream",
     "text": [
      "23\n",
      "AB+\n"
     ]
    }
   ],
   "source": [
    "class Doku(Liquor):\n",
    "    \n",
    "    def __init__(self, strength, speed, intelligence, color, blood_type):\n",
    "        super().__init__(strength, speed, intelligence, color)\n",
    "        self.blood_type = blood_type\n",
    "        \n",
    "dokubutsu = Doku(23, 21, 19, 'brown', 'AB+')\n",
    "print(dokubutsu.strength)\n",
    "print(dokubutsu.blood_type)"
   ]
  },
  {
   "cell_type": "markdown",
   "metadata": {},
   "source": [
    "## Working With Classes, Data Structures, and Functions\n",
    "\n",
    "You can use a data structure, like a list or a dictionary, within the class.  You can also put instances of a class into a data structure."
   ]
  },
  {
   "cell_type": "code",
   "execution_count": 212,
   "metadata": {
    "collapsed": true
   },
   "outputs": [],
   "source": [
    "class Tango:\n",
    "    \n",
    "    def __init__(self, word, meaning):\n",
    "        self.tango = {word: meaning}"
   ]
  },
  {
   "cell_type": "code",
   "execution_count": 213,
   "metadata": {
    "collapsed": false
   },
   "outputs": [
    {
     "name": "stdout",
     "output_type": "stream",
     "text": [
      "{'tango': 'word'}\n"
     ]
    }
   ],
   "source": [
    "tango = Tango('tango', 'word')\n",
    "print(tango.tango)"
   ]
  },
  {
   "cell_type": "code",
   "execution_count": 214,
   "metadata": {
    "collapsed": false
   },
   "outputs": [
    {
     "name": "stdout",
     "output_type": "stream",
     "text": [
      "{'tango': 'word'}\n",
      "{'konpyuta': 'computer'}\n",
      "{'hebi': 'snake'}\n"
     ]
    }
   ],
   "source": [
    "konpyuta = Tango('konpyuta', 'computer')\n",
    "hebi = Tango('hebi', 'snake')\n",
    "jisho = [tango, konpyuta, hebi]\n",
    "\n",
    "for word in jisho:\n",
    "    print(word.tango)"
   ]
  },
  {
   "cell_type": "code",
   "execution_count": 215,
   "metadata": {
    "collapsed": false
   },
   "outputs": [
    {
     "name": "stdout",
     "output_type": "stream",
     "text": [
      "hebi means snake\n"
     ]
    }
   ],
   "source": [
    "def hanasu(tango):\n",
    "    for t in tango.tango:\n",
    "        print(\"{} means {}\".format(t, tango.tango[t]))\n",
    "        \n",
    "hanasu(hebi)"
   ]
  }
 ],
 "metadata": {
  "kernelspec": {
   "display_name": "Python 3",
   "language": "python",
   "name": "python3"
  },
  "language_info": {
   "codemirror_mode": {
    "name": "ipython",
    "version": 3
   },
   "file_extension": ".py",
   "mimetype": "text/x-python",
   "name": "python",
   "nbconvert_exporter": "python",
   "pygments_lexer": "ipython3",
   "version": "3.6.0"
  }
 },
 "nbformat": 4,
 "nbformat_minor": 2
}
