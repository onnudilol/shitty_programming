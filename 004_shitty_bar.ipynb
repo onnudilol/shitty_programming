{
 "cells": [
  {
   "cell_type": "markdown",
   "metadata": {},
   "source": [
    "# Shitty Bar\n",
    "\n",
    "You are a bartender at a shitty bar.  Your boss isn't paying you enough money, so you want to automate your job so you can spend the rest of your time getting drunk.\n",
    "\n",
    "You recently learned how to use classes in Python, so you decide to use that to keep track of your transactions.\n",
    "\n",
    "# Objectives\n",
    "\n",
    "The goal of this exercise is to define classes for your bar, drinks, and patrons.\n",
    "\n",
    "The bar has three kinds of drinks.  Every drink costs *x* amount of dollars to make and costs the customer *y* amount of dollars to buy.  You need to keep track of how much money the bar currently has, and how much it gains or loses with every transaction.\n",
    "\n",
    "Every drink has a name, a price to make, a price it sells for, and a poison attribute.\n",
    "\n",
    "Every patron has a name, an age, a balance, and a poison tolerance.  If they are under a certain age, they are not allowed to drink.  If they don't have enough money, they can't buy a drink.  If the amount they drink exceeds their poison tolerance, they die."
   ]
  }
 ],
 "metadata": {
  "kernelspec": {
   "display_name": "Python 3",
   "language": "python",
   "name": "python3"
  },
  "language_info": {
   "codemirror_mode": {
    "name": "ipython",
    "version": 3
   },
   "file_extension": ".py",
   "mimetype": "text/x-python",
   "name": "python",
   "nbconvert_exporter": "python",
   "pygments_lexer": "ipython3",
   "version": "3.6.0"
  }
 },
 "nbformat": 4,
 "nbformat_minor": 2
}
